{
 "cells": [
  {
   "cell_type": "code",
   "execution_count": 18,
   "metadata": {
    "collapsed": true
   },
   "outputs": [],
   "source": [
    "import numpy as np\n",
    "import re\n",
    "import pandas as pd\n",
    "from sklearn.preprocessing import StandardScaler, MinMaxScaler\n",
    "from sklearn.decomposition import PCA\n",
    "from sklearn.cluster import KMeans, DBSCAN\n",
    "from sklearn.neighbors import NearestNeighbors\n",
    "from requests import get\n",
    "import unicodedata\n",
    "from bs4 import BeautifulSoup\n",
    "import seaborn as sns\n",
    "from mpl_toolkits.mplot3d import Axes3D\n",
    "import matplotlib.pyplot as plt\n",
    "from sklearn.model_selection import train_test_split\n",
    "from sklearn.ensemble import RandomForestClassifier\n",
    "from sklearn.ensemble import GradientBoostingClassifier\n",
    "import xgboost as xgb\n",
    "from sklearn.metrics import accuracy_score\n",
    "import sys\n",
    "reload(sys)\n",
    "sys.setdefaultencoding('utf-8')\n",
    "%matplotlib inline"
   ]
  },
  {
   "cell_type": "markdown",
   "metadata": {},
   "source": [
    "# Reading in the data"
   ]
  },
  {
   "cell_type": "code",
   "execution_count": 19,
   "metadata": {
    "collapsed": true
   },
   "outputs": [],
   "source": [
    "df = pd.read_csv('movie_metadata.csv')"
   ]
  },
  {
   "cell_type": "code",
   "execution_count": 20,
   "metadata": {
    "collapsed": false
   },
   "outputs": [
    {
     "data": {
      "text/html": [
       "<div>\n",
       "<table border=\"1\" class=\"dataframe\">\n",
       "  <thead>\n",
       "    <tr style=\"text-align: right;\">\n",
       "      <th></th>\n",
       "      <th>color</th>\n",
       "      <th>director_name</th>\n",
       "      <th>num_critic_for_reviews</th>\n",
       "      <th>duration</th>\n",
       "      <th>director_facebook_likes</th>\n",
       "      <th>actor_3_facebook_likes</th>\n",
       "      <th>actor_2_name</th>\n",
       "      <th>actor_1_facebook_likes</th>\n",
       "      <th>gross</th>\n",
       "      <th>genres</th>\n",
       "      <th>...</th>\n",
       "      <th>num_user_for_reviews</th>\n",
       "      <th>language</th>\n",
       "      <th>country</th>\n",
       "      <th>content_rating</th>\n",
       "      <th>budget</th>\n",
       "      <th>title_year</th>\n",
       "      <th>actor_2_facebook_likes</th>\n",
       "      <th>imdb_score</th>\n",
       "      <th>aspect_ratio</th>\n",
       "      <th>movie_facebook_likes</th>\n",
       "    </tr>\n",
       "  </thead>\n",
       "  <tbody>\n",
       "    <tr>\n",
       "      <th>0</th>\n",
       "      <td>Color</td>\n",
       "      <td>James Cameron</td>\n",
       "      <td>723.0</td>\n",
       "      <td>178.0</td>\n",
       "      <td>0.0</td>\n",
       "      <td>855.0</td>\n",
       "      <td>Joel David Moore</td>\n",
       "      <td>1000.0</td>\n",
       "      <td>760505847.0</td>\n",
       "      <td>Action|Adventure|Fantasy|Sci-Fi</td>\n",
       "      <td>...</td>\n",
       "      <td>3054.0</td>\n",
       "      <td>English</td>\n",
       "      <td>USA</td>\n",
       "      <td>PG-13</td>\n",
       "      <td>237000000.0</td>\n",
       "      <td>2009.0</td>\n",
       "      <td>936.0</td>\n",
       "      <td>7.9</td>\n",
       "      <td>1.78</td>\n",
       "      <td>33000.0</td>\n",
       "    </tr>\n",
       "    <tr>\n",
       "      <th>1</th>\n",
       "      <td>Color</td>\n",
       "      <td>Gore Verbinski</td>\n",
       "      <td>302.0</td>\n",
       "      <td>169.0</td>\n",
       "      <td>563.0</td>\n",
       "      <td>1000.0</td>\n",
       "      <td>Orlando Bloom</td>\n",
       "      <td>40000.0</td>\n",
       "      <td>309404152.0</td>\n",
       "      <td>Action|Adventure|Fantasy</td>\n",
       "      <td>...</td>\n",
       "      <td>1238.0</td>\n",
       "      <td>English</td>\n",
       "      <td>USA</td>\n",
       "      <td>PG-13</td>\n",
       "      <td>300000000.0</td>\n",
       "      <td>2007.0</td>\n",
       "      <td>5000.0</td>\n",
       "      <td>7.1</td>\n",
       "      <td>2.35</td>\n",
       "      <td>0.0</td>\n",
       "    </tr>\n",
       "    <tr>\n",
       "      <th>2</th>\n",
       "      <td>Color</td>\n",
       "      <td>Sam Mendes</td>\n",
       "      <td>602.0</td>\n",
       "      <td>148.0</td>\n",
       "      <td>0.0</td>\n",
       "      <td>161.0</td>\n",
       "      <td>Rory Kinnear</td>\n",
       "      <td>11000.0</td>\n",
       "      <td>200074175.0</td>\n",
       "      <td>Action|Adventure|Thriller</td>\n",
       "      <td>...</td>\n",
       "      <td>994.0</td>\n",
       "      <td>English</td>\n",
       "      <td>UK</td>\n",
       "      <td>PG-13</td>\n",
       "      <td>245000000.0</td>\n",
       "      <td>2015.0</td>\n",
       "      <td>393.0</td>\n",
       "      <td>6.8</td>\n",
       "      <td>2.35</td>\n",
       "      <td>85000.0</td>\n",
       "    </tr>\n",
       "    <tr>\n",
       "      <th>3</th>\n",
       "      <td>Color</td>\n",
       "      <td>Christopher Nolan</td>\n",
       "      <td>813.0</td>\n",
       "      <td>164.0</td>\n",
       "      <td>22000.0</td>\n",
       "      <td>23000.0</td>\n",
       "      <td>Christian Bale</td>\n",
       "      <td>27000.0</td>\n",
       "      <td>448130642.0</td>\n",
       "      <td>Action|Thriller</td>\n",
       "      <td>...</td>\n",
       "      <td>2701.0</td>\n",
       "      <td>English</td>\n",
       "      <td>USA</td>\n",
       "      <td>PG-13</td>\n",
       "      <td>250000000.0</td>\n",
       "      <td>2012.0</td>\n",
       "      <td>23000.0</td>\n",
       "      <td>8.5</td>\n",
       "      <td>2.35</td>\n",
       "      <td>164000.0</td>\n",
       "    </tr>\n",
       "    <tr>\n",
       "      <th>4</th>\n",
       "      <td>NaN</td>\n",
       "      <td>Doug Walker</td>\n",
       "      <td>NaN</td>\n",
       "      <td>NaN</td>\n",
       "      <td>131.0</td>\n",
       "      <td>NaN</td>\n",
       "      <td>Rob Walker</td>\n",
       "      <td>131.0</td>\n",
       "      <td>NaN</td>\n",
       "      <td>Documentary</td>\n",
       "      <td>...</td>\n",
       "      <td>NaN</td>\n",
       "      <td>NaN</td>\n",
       "      <td>NaN</td>\n",
       "      <td>NaN</td>\n",
       "      <td>NaN</td>\n",
       "      <td>NaN</td>\n",
       "      <td>12.0</td>\n",
       "      <td>7.1</td>\n",
       "      <td>NaN</td>\n",
       "      <td>0.0</td>\n",
       "    </tr>\n",
       "  </tbody>\n",
       "</table>\n",
       "<p>5 rows × 28 columns</p>\n",
       "</div>"
      ],
      "text/plain": [
       "   color      director_name  num_critic_for_reviews  duration  \\\n",
       "0  Color      James Cameron                   723.0     178.0   \n",
       "1  Color     Gore Verbinski                   302.0     169.0   \n",
       "2  Color         Sam Mendes                   602.0     148.0   \n",
       "3  Color  Christopher Nolan                   813.0     164.0   \n",
       "4    NaN        Doug Walker                     NaN       NaN   \n",
       "\n",
       "   director_facebook_likes  actor_3_facebook_likes      actor_2_name  \\\n",
       "0                      0.0                   855.0  Joel David Moore   \n",
       "1                    563.0                  1000.0     Orlando Bloom   \n",
       "2                      0.0                   161.0      Rory Kinnear   \n",
       "3                  22000.0                 23000.0    Christian Bale   \n",
       "4                    131.0                     NaN        Rob Walker   \n",
       "\n",
       "   actor_1_facebook_likes        gross                           genres  \\\n",
       "0                  1000.0  760505847.0  Action|Adventure|Fantasy|Sci-Fi   \n",
       "1                 40000.0  309404152.0         Action|Adventure|Fantasy   \n",
       "2                 11000.0  200074175.0        Action|Adventure|Thriller   \n",
       "3                 27000.0  448130642.0                  Action|Thriller   \n",
       "4                   131.0          NaN                      Documentary   \n",
       "\n",
       "          ...          num_user_for_reviews language  country  content_rating  \\\n",
       "0         ...                        3054.0  English      USA           PG-13   \n",
       "1         ...                        1238.0  English      USA           PG-13   \n",
       "2         ...                         994.0  English       UK           PG-13   \n",
       "3         ...                        2701.0  English      USA           PG-13   \n",
       "4         ...                           NaN      NaN      NaN             NaN   \n",
       "\n",
       "        budget  title_year actor_2_facebook_likes imdb_score  aspect_ratio  \\\n",
       "0  237000000.0      2009.0                  936.0        7.9          1.78   \n",
       "1  300000000.0      2007.0                 5000.0        7.1          2.35   \n",
       "2  245000000.0      2015.0                  393.0        6.8          2.35   \n",
       "3  250000000.0      2012.0                23000.0        8.5          2.35   \n",
       "4          NaN         NaN                   12.0        7.1           NaN   \n",
       "\n",
       "  movie_facebook_likes  \n",
       "0              33000.0  \n",
       "1                  0.0  \n",
       "2              85000.0  \n",
       "3             164000.0  \n",
       "4                  0.0  \n",
       "\n",
       "[5 rows x 28 columns]"
      ]
     },
     "execution_count": 20,
     "metadata": {},
     "output_type": "execute_result"
    }
   ],
   "source": [
    "df.head()"
   ]
  },
  {
   "cell_type": "code",
   "execution_count": 21,
   "metadata": {
    "collapsed": false
   },
   "outputs": [
    {
     "data": {
      "text/plain": [
       "(5043, 28)"
      ]
     },
     "execution_count": 21,
     "metadata": {},
     "output_type": "execute_result"
    }
   ],
   "source": [
    "df.shape"
   ]
  },
  {
   "cell_type": "code",
   "execution_count": 22,
   "metadata": {
    "collapsed": true
   },
   "outputs": [],
   "source": [
    "def classify(col):\n",
    "    if col['imdb_score'] >= 0 and col['imdb_score'] < 4:\n",
    "        return 0\n",
    "    elif col['imdb_score'] >= 4 and col['imdb_score'] < 6:\n",
    "        return 1\n",
    "    elif col['imdb_score'] >= 6 and col['imdb_score'] < 7:\n",
    "        return 2\n",
    "    elif col['imdb_score'] >= 7 and col['imdb_score'] < 8:\n",
    "        return 3\n",
    "    elif col['imdb_score'] >= 8 and col['imdb_score'] <= 10:\n",
    "        return 4"
   ]
  },
  {
   "cell_type": "code",
   "execution_count": 23,
   "metadata": {
    "collapsed": true
   },
   "outputs": [],
   "source": [
    "df['Success'] = df.apply(classify, axis=1)"
   ]
  },
  {
   "cell_type": "code",
   "execution_count": 24,
   "metadata": {
    "collapsed": false
   },
   "outputs": [
    {
     "data": {
      "text/html": [
       "<div>\n",
       "<table border=\"1\" class=\"dataframe\">\n",
       "  <thead>\n",
       "    <tr style=\"text-align: right;\">\n",
       "      <th></th>\n",
       "      <th>num_critic_for_reviews</th>\n",
       "      <th>duration</th>\n",
       "      <th>director_facebook_likes</th>\n",
       "      <th>actor_3_facebook_likes</th>\n",
       "      <th>actor_1_facebook_likes</th>\n",
       "      <th>gross</th>\n",
       "      <th>num_voted_users</th>\n",
       "      <th>cast_total_facebook_likes</th>\n",
       "      <th>facenumber_in_poster</th>\n",
       "      <th>num_user_for_reviews</th>\n",
       "      <th>budget</th>\n",
       "      <th>title_year</th>\n",
       "      <th>actor_2_facebook_likes</th>\n",
       "      <th>imdb_score</th>\n",
       "      <th>aspect_ratio</th>\n",
       "      <th>movie_facebook_likes</th>\n",
       "      <th>Success</th>\n",
       "    </tr>\n",
       "  </thead>\n",
       "  <tbody>\n",
       "    <tr>\n",
       "      <th>count</th>\n",
       "      <td>4927.000000</td>\n",
       "      <td>4959.000000</td>\n",
       "      <td>4872.000000</td>\n",
       "      <td>4953.000000</td>\n",
       "      <td>4968.000000</td>\n",
       "      <td>4.104000e+03</td>\n",
       "      <td>4.974000e+03</td>\n",
       "      <td>4974.000000</td>\n",
       "      <td>4961.000000</td>\n",
       "      <td>4956.000000</td>\n",
       "      <td>4.494000e+03</td>\n",
       "      <td>4869.000000</td>\n",
       "      <td>4963.000000</td>\n",
       "      <td>4974.000000</td>\n",
       "      <td>4654.000000</td>\n",
       "      <td>4974.000000</td>\n",
       "      <td>4974.000000</td>\n",
       "    </tr>\n",
       "    <tr>\n",
       "      <th>mean</th>\n",
       "      <td>140.572965</td>\n",
       "      <td>107.193991</td>\n",
       "      <td>691.233990</td>\n",
       "      <td>647.790430</td>\n",
       "      <td>6573.525765</td>\n",
       "      <td>4.862765e+07</td>\n",
       "      <td>8.382561e+04</td>\n",
       "      <td>9729.287495</td>\n",
       "      <td>1.372707</td>\n",
       "      <td>273.584746</td>\n",
       "      <td>3.998652e+07</td>\n",
       "      <td>2002.487985</td>\n",
       "      <td>1660.086641</td>\n",
       "      <td>6.439767</td>\n",
       "      <td>2.223350</td>\n",
       "      <td>7572.120828</td>\n",
       "      <td>2.096301</td>\n",
       "    </tr>\n",
       "    <tr>\n",
       "      <th>std</th>\n",
       "      <td>121.858265</td>\n",
       "      <td>24.977939</td>\n",
       "      <td>2822.022077</td>\n",
       "      <td>1672.724849</td>\n",
       "      <td>15077.147622</td>\n",
       "      <td>6.853339e+07</td>\n",
       "      <td>1.386775e+05</td>\n",
       "      <td>18228.145064</td>\n",
       "      <td>2.017257</td>\n",
       "      <td>378.750005</td>\n",
       "      <td>2.073754e+08</td>\n",
       "      <td>12.433410</td>\n",
       "      <td>4055.957071</td>\n",
       "      <td>1.124002</td>\n",
       "      <td>1.393249</td>\n",
       "      <td>19422.681479</td>\n",
       "      <td>0.957457</td>\n",
       "    </tr>\n",
       "    <tr>\n",
       "      <th>min</th>\n",
       "      <td>1.000000</td>\n",
       "      <td>7.000000</td>\n",
       "      <td>0.000000</td>\n",
       "      <td>0.000000</td>\n",
       "      <td>0.000000</td>\n",
       "      <td>1.620000e+02</td>\n",
       "      <td>5.000000e+00</td>\n",
       "      <td>0.000000</td>\n",
       "      <td>0.000000</td>\n",
       "      <td>1.000000</td>\n",
       "      <td>2.180000e+02</td>\n",
       "      <td>1916.000000</td>\n",
       "      <td>0.000000</td>\n",
       "      <td>1.600000</td>\n",
       "      <td>1.180000</td>\n",
       "      <td>0.000000</td>\n",
       "      <td>0.000000</td>\n",
       "    </tr>\n",
       "    <tr>\n",
       "      <th>25%</th>\n",
       "      <td>NaN</td>\n",
       "      <td>NaN</td>\n",
       "      <td>NaN</td>\n",
       "      <td>NaN</td>\n",
       "      <td>NaN</td>\n",
       "      <td>NaN</td>\n",
       "      <td>NaN</td>\n",
       "      <td>NaN</td>\n",
       "      <td>NaN</td>\n",
       "      <td>NaN</td>\n",
       "      <td>NaN</td>\n",
       "      <td>NaN</td>\n",
       "      <td>NaN</td>\n",
       "      <td>NaN</td>\n",
       "      <td>NaN</td>\n",
       "      <td>NaN</td>\n",
       "      <td>NaN</td>\n",
       "    </tr>\n",
       "    <tr>\n",
       "      <th>50%</th>\n",
       "      <td>NaN</td>\n",
       "      <td>NaN</td>\n",
       "      <td>NaN</td>\n",
       "      <td>NaN</td>\n",
       "      <td>NaN</td>\n",
       "      <td>NaN</td>\n",
       "      <td>NaN</td>\n",
       "      <td>NaN</td>\n",
       "      <td>NaN</td>\n",
       "      <td>NaN</td>\n",
       "      <td>NaN</td>\n",
       "      <td>NaN</td>\n",
       "      <td>NaN</td>\n",
       "      <td>NaN</td>\n",
       "      <td>NaN</td>\n",
       "      <td>NaN</td>\n",
       "      <td>NaN</td>\n",
       "    </tr>\n",
       "    <tr>\n",
       "      <th>75%</th>\n",
       "      <td>NaN</td>\n",
       "      <td>NaN</td>\n",
       "      <td>NaN</td>\n",
       "      <td>NaN</td>\n",
       "      <td>NaN</td>\n",
       "      <td>NaN</td>\n",
       "      <td>NaN</td>\n",
       "      <td>NaN</td>\n",
       "      <td>NaN</td>\n",
       "      <td>NaN</td>\n",
       "      <td>NaN</td>\n",
       "      <td>NaN</td>\n",
       "      <td>NaN</td>\n",
       "      <td>NaN</td>\n",
       "      <td>NaN</td>\n",
       "      <td>NaN</td>\n",
       "      <td>NaN</td>\n",
       "    </tr>\n",
       "    <tr>\n",
       "      <th>max</th>\n",
       "      <td>813.000000</td>\n",
       "      <td>511.000000</td>\n",
       "      <td>23000.000000</td>\n",
       "      <td>23000.000000</td>\n",
       "      <td>640000.000000</td>\n",
       "      <td>7.605058e+08</td>\n",
       "      <td>1.689764e+06</td>\n",
       "      <td>656730.000000</td>\n",
       "      <td>43.000000</td>\n",
       "      <td>5060.000000</td>\n",
       "      <td>1.221550e+10</td>\n",
       "      <td>2016.000000</td>\n",
       "      <td>137000.000000</td>\n",
       "      <td>9.500000</td>\n",
       "      <td>16.000000</td>\n",
       "      <td>349000.000000</td>\n",
       "      <td>4.000000</td>\n",
       "    </tr>\n",
       "  </tbody>\n",
       "</table>\n",
       "</div>"
      ],
      "text/plain": [
       "       num_critic_for_reviews     duration  director_facebook_likes  \\\n",
       "count             4927.000000  4959.000000              4872.000000   \n",
       "mean               140.572965   107.193991               691.233990   \n",
       "std                121.858265    24.977939              2822.022077   \n",
       "min                  1.000000     7.000000                 0.000000   \n",
       "25%                       NaN          NaN                      NaN   \n",
       "50%                       NaN          NaN                      NaN   \n",
       "75%                       NaN          NaN                      NaN   \n",
       "max                813.000000   511.000000             23000.000000   \n",
       "\n",
       "       actor_3_facebook_likes  actor_1_facebook_likes         gross  \\\n",
       "count             4953.000000             4968.000000  4.104000e+03   \n",
       "mean               647.790430             6573.525765  4.862765e+07   \n",
       "std               1672.724849            15077.147622  6.853339e+07   \n",
       "min                  0.000000                0.000000  1.620000e+02   \n",
       "25%                       NaN                     NaN           NaN   \n",
       "50%                       NaN                     NaN           NaN   \n",
       "75%                       NaN                     NaN           NaN   \n",
       "max              23000.000000           640000.000000  7.605058e+08   \n",
       "\n",
       "       num_voted_users  cast_total_facebook_likes  facenumber_in_poster  \\\n",
       "count     4.974000e+03                4974.000000           4961.000000   \n",
       "mean      8.382561e+04                9729.287495              1.372707   \n",
       "std       1.386775e+05               18228.145064              2.017257   \n",
       "min       5.000000e+00                   0.000000              0.000000   \n",
       "25%                NaN                        NaN                   NaN   \n",
       "50%                NaN                        NaN                   NaN   \n",
       "75%                NaN                        NaN                   NaN   \n",
       "max       1.689764e+06              656730.000000             43.000000   \n",
       "\n",
       "       num_user_for_reviews        budget   title_year  \\\n",
       "count           4956.000000  4.494000e+03  4869.000000   \n",
       "mean             273.584746  3.998652e+07  2002.487985   \n",
       "std              378.750005  2.073754e+08    12.433410   \n",
       "min                1.000000  2.180000e+02  1916.000000   \n",
       "25%                     NaN           NaN          NaN   \n",
       "50%                     NaN           NaN          NaN   \n",
       "75%                     NaN           NaN          NaN   \n",
       "max             5060.000000  1.221550e+10  2016.000000   \n",
       "\n",
       "       actor_2_facebook_likes   imdb_score  aspect_ratio  \\\n",
       "count             4963.000000  4974.000000   4654.000000   \n",
       "mean              1660.086641     6.439767      2.223350   \n",
       "std               4055.957071     1.124002      1.393249   \n",
       "min                  0.000000     1.600000      1.180000   \n",
       "25%                       NaN          NaN           NaN   \n",
       "50%                       NaN          NaN           NaN   \n",
       "75%                       NaN          NaN           NaN   \n",
       "max             137000.000000     9.500000     16.000000   \n",
       "\n",
       "       movie_facebook_likes      Success  \n",
       "count           4974.000000  4974.000000  \n",
       "mean            7572.120828     2.096301  \n",
       "std            19422.681479     0.957457  \n",
       "min                0.000000     0.000000  \n",
       "25%                     NaN          NaN  \n",
       "50%                     NaN          NaN  \n",
       "75%                     NaN          NaN  \n",
       "max           349000.000000     4.000000  "
      ]
     },
     "execution_count": 24,
     "metadata": {},
     "output_type": "execute_result"
    }
   ],
   "source": [
    "df.describe()"
   ]
  },
  {
   "cell_type": "code",
   "execution_count": 25,
   "metadata": {
    "collapsed": false
   },
   "outputs": [
    {
     "data": {
      "text/html": [
       "<div>\n",
       "<table border=\"1\" class=\"dataframe\">\n",
       "  <thead>\n",
       "    <tr style=\"text-align: right;\">\n",
       "      <th></th>\n",
       "      <th>color</th>\n",
       "      <th>director_name</th>\n",
       "      <th>num_critic_for_reviews</th>\n",
       "      <th>duration</th>\n",
       "      <th>director_facebook_likes</th>\n",
       "      <th>actor_3_facebook_likes</th>\n",
       "      <th>actor_2_name</th>\n",
       "      <th>actor_1_facebook_likes</th>\n",
       "      <th>gross</th>\n",
       "      <th>genres</th>\n",
       "      <th>...</th>\n",
       "      <th>language</th>\n",
       "      <th>country</th>\n",
       "      <th>content_rating</th>\n",
       "      <th>budget</th>\n",
       "      <th>title_year</th>\n",
       "      <th>actor_2_facebook_likes</th>\n",
       "      <th>imdb_score</th>\n",
       "      <th>aspect_ratio</th>\n",
       "      <th>movie_facebook_likes</th>\n",
       "      <th>Success</th>\n",
       "    </tr>\n",
       "  </thead>\n",
       "  <tbody>\n",
       "    <tr>\n",
       "      <th>0</th>\n",
       "      <td>Color</td>\n",
       "      <td>James Cameron</td>\n",
       "      <td>723.0</td>\n",
       "      <td>178.0</td>\n",
       "      <td>0.0</td>\n",
       "      <td>855.0</td>\n",
       "      <td>Joel David Moore</td>\n",
       "      <td>1000.0</td>\n",
       "      <td>760505847.0</td>\n",
       "      <td>Action|Adventure|Fantasy|Sci-Fi</td>\n",
       "      <td>...</td>\n",
       "      <td>English</td>\n",
       "      <td>USA</td>\n",
       "      <td>PG-13</td>\n",
       "      <td>237000000.0</td>\n",
       "      <td>2009.0</td>\n",
       "      <td>936.0</td>\n",
       "      <td>7.9</td>\n",
       "      <td>1.78</td>\n",
       "      <td>33000.0</td>\n",
       "      <td>3.0</td>\n",
       "    </tr>\n",
       "    <tr>\n",
       "      <th>1</th>\n",
       "      <td>Color</td>\n",
       "      <td>Gore Verbinski</td>\n",
       "      <td>302.0</td>\n",
       "      <td>169.0</td>\n",
       "      <td>563.0</td>\n",
       "      <td>1000.0</td>\n",
       "      <td>Orlando Bloom</td>\n",
       "      <td>40000.0</td>\n",
       "      <td>309404152.0</td>\n",
       "      <td>Action|Adventure|Fantasy</td>\n",
       "      <td>...</td>\n",
       "      <td>English</td>\n",
       "      <td>USA</td>\n",
       "      <td>PG-13</td>\n",
       "      <td>300000000.0</td>\n",
       "      <td>2007.0</td>\n",
       "      <td>5000.0</td>\n",
       "      <td>7.1</td>\n",
       "      <td>2.35</td>\n",
       "      <td>0.0</td>\n",
       "      <td>3.0</td>\n",
       "    </tr>\n",
       "    <tr>\n",
       "      <th>2</th>\n",
       "      <td>Color</td>\n",
       "      <td>Sam Mendes</td>\n",
       "      <td>602.0</td>\n",
       "      <td>148.0</td>\n",
       "      <td>0.0</td>\n",
       "      <td>161.0</td>\n",
       "      <td>Rory Kinnear</td>\n",
       "      <td>11000.0</td>\n",
       "      <td>200074175.0</td>\n",
       "      <td>Action|Adventure|Thriller</td>\n",
       "      <td>...</td>\n",
       "      <td>English</td>\n",
       "      <td>UK</td>\n",
       "      <td>PG-13</td>\n",
       "      <td>245000000.0</td>\n",
       "      <td>2015.0</td>\n",
       "      <td>393.0</td>\n",
       "      <td>6.8</td>\n",
       "      <td>2.35</td>\n",
       "      <td>85000.0</td>\n",
       "      <td>2.0</td>\n",
       "    </tr>\n",
       "    <tr>\n",
       "      <th>3</th>\n",
       "      <td>Color</td>\n",
       "      <td>Christopher Nolan</td>\n",
       "      <td>813.0</td>\n",
       "      <td>164.0</td>\n",
       "      <td>22000.0</td>\n",
       "      <td>23000.0</td>\n",
       "      <td>Christian Bale</td>\n",
       "      <td>27000.0</td>\n",
       "      <td>448130642.0</td>\n",
       "      <td>Action|Thriller</td>\n",
       "      <td>...</td>\n",
       "      <td>English</td>\n",
       "      <td>USA</td>\n",
       "      <td>PG-13</td>\n",
       "      <td>250000000.0</td>\n",
       "      <td>2012.0</td>\n",
       "      <td>23000.0</td>\n",
       "      <td>8.5</td>\n",
       "      <td>2.35</td>\n",
       "      <td>164000.0</td>\n",
       "      <td>4.0</td>\n",
       "    </tr>\n",
       "    <tr>\n",
       "      <th>4</th>\n",
       "      <td>NaN</td>\n",
       "      <td>Doug Walker</td>\n",
       "      <td>NaN</td>\n",
       "      <td>NaN</td>\n",
       "      <td>131.0</td>\n",
       "      <td>NaN</td>\n",
       "      <td>Rob Walker</td>\n",
       "      <td>131.0</td>\n",
       "      <td>NaN</td>\n",
       "      <td>Documentary</td>\n",
       "      <td>...</td>\n",
       "      <td>NaN</td>\n",
       "      <td>NaN</td>\n",
       "      <td>NaN</td>\n",
       "      <td>NaN</td>\n",
       "      <td>NaN</td>\n",
       "      <td>12.0</td>\n",
       "      <td>7.1</td>\n",
       "      <td>NaN</td>\n",
       "      <td>0.0</td>\n",
       "      <td>3.0</td>\n",
       "    </tr>\n",
       "  </tbody>\n",
       "</table>\n",
       "<p>5 rows × 29 columns</p>\n",
       "</div>"
      ],
      "text/plain": [
       "   color      director_name  num_critic_for_reviews  duration  \\\n",
       "0  Color      James Cameron                   723.0     178.0   \n",
       "1  Color     Gore Verbinski                   302.0     169.0   \n",
       "2  Color         Sam Mendes                   602.0     148.0   \n",
       "3  Color  Christopher Nolan                   813.0     164.0   \n",
       "4    NaN        Doug Walker                     NaN       NaN   \n",
       "\n",
       "   director_facebook_likes  actor_3_facebook_likes      actor_2_name  \\\n",
       "0                      0.0                   855.0  Joel David Moore   \n",
       "1                    563.0                  1000.0     Orlando Bloom   \n",
       "2                      0.0                   161.0      Rory Kinnear   \n",
       "3                  22000.0                 23000.0    Christian Bale   \n",
       "4                    131.0                     NaN        Rob Walker   \n",
       "\n",
       "   actor_1_facebook_likes        gross                           genres  \\\n",
       "0                  1000.0  760505847.0  Action|Adventure|Fantasy|Sci-Fi   \n",
       "1                 40000.0  309404152.0         Action|Adventure|Fantasy   \n",
       "2                 11000.0  200074175.0        Action|Adventure|Thriller   \n",
       "3                 27000.0  448130642.0                  Action|Thriller   \n",
       "4                   131.0          NaN                      Documentary   \n",
       "\n",
       "    ...   language country  content_rating       budget title_year  \\\n",
       "0   ...    English     USA           PG-13  237000000.0     2009.0   \n",
       "1   ...    English     USA           PG-13  300000000.0     2007.0   \n",
       "2   ...    English      UK           PG-13  245000000.0     2015.0   \n",
       "3   ...    English     USA           PG-13  250000000.0     2012.0   \n",
       "4   ...        NaN     NaN             NaN          NaN        NaN   \n",
       "\n",
       "   actor_2_facebook_likes imdb_score aspect_ratio  movie_facebook_likes  \\\n",
       "0                   936.0        7.9         1.78               33000.0   \n",
       "1                  5000.0        7.1         2.35                   0.0   \n",
       "2                   393.0        6.8         2.35               85000.0   \n",
       "3                 23000.0        8.5         2.35              164000.0   \n",
       "4                    12.0        7.1          NaN                   0.0   \n",
       "\n",
       "  Success  \n",
       "0     3.0  \n",
       "1     3.0  \n",
       "2     2.0  \n",
       "3     4.0  \n",
       "4     3.0  \n",
       "\n",
       "[5 rows x 29 columns]"
      ]
     },
     "execution_count": 25,
     "metadata": {},
     "output_type": "execute_result"
    }
   ],
   "source": [
    "df.head()"
   ]
  },
  {
   "cell_type": "markdown",
   "metadata": {},
   "source": [
    "# Filling NAN's with median."
   ]
  },
  {
   "cell_type": "code",
   "execution_count": 26,
   "metadata": {
    "collapsed": true
   },
   "outputs": [],
   "source": [
    "def fill_nan(col):\n",
    "    df[col] = df[col].fillna(df[col].median())\n",
    "\n",
    "cols = list(df.columns)\n",
    "fill_nan(cols)"
   ]
  },
  {
   "cell_type": "code",
   "execution_count": null,
   "metadata": {
    "collapsed": true
   },
   "outputs": [],
   "source": []
  },
  {
   "cell_type": "markdown",
   "metadata": {},
   "source": [
    "# Cleaning"
   ]
  },
  {
   "cell_type": "code",
   "execution_count": 27,
   "metadata": {
    "collapsed": true
   },
   "outputs": [],
   "source": [
    "def clean_backward_title(col):\n",
    "    string = col.rstrip()[:-2]\n",
    "    return unicodedata.normalize('NFD', unicode(string, 'utf-8')).encode('ascii', 'ignore')"
   ]
  },
  {
   "cell_type": "code",
   "execution_count": 28,
   "metadata": {
    "collapsed": true
   },
   "outputs": [],
   "source": [
    "df['movie_title'] = df['movie_title'].astype(str)"
   ]
  },
  {
   "cell_type": "code",
   "execution_count": 29,
   "metadata": {
    "collapsed": true,
    "scrolled": true
   },
   "outputs": [],
   "source": [
    "df['movie_title'] = df['movie_title'].apply(clean_backward_title)"
   ]
  },
  {
   "cell_type": "code",
   "execution_count": 30,
   "metadata": {
    "collapsed": false
   },
   "outputs": [
    {
     "data": {
      "text/plain": [
       "0                                            Avatar\n",
       "1          Pirates of the Caribbean: At World's End\n",
       "2                                           Spectre\n",
       "3                             The Dark Knight Rises\n",
       "4        Star Wars: Episode VII - The Force Awakens\n",
       "5                                       John Carter\n",
       "6                                      Spider-Man 3\n",
       "7                                           Tangled\n",
       "8                           Avengers: Age of Ultron\n",
       "9            Harry Potter and the Half-Blood Prince\n",
       "10               Batman v Superman: Dawn of Justice\n",
       "11                                 Superman Returns\n",
       "12                                Quantum of Solace\n",
       "13       Pirates of the Caribbean: Dead Man's Chest\n",
       "14                                  The Lone Ranger\n",
       "15                                     Man of Steel\n",
       "16         The Chronicles of Narnia: Prince Caspian\n",
       "17                                     The Avengers\n",
       "18      Pirates of the Caribbean: On Stranger Tides\n",
       "19                                   Men in Black 3\n",
       "20        The Hobbit: The Battle of the Five Armies\n",
       "21                           The Amazing Spider-Man\n",
       "22                                       Robin Hood\n",
       "23              The Hobbit: The Desolation of Smaug\n",
       "24                               The Golden Compass\n",
       "25                                        King Kong\n",
       "26                                          Titanic\n",
       "27                       Captain America: Civil War\n",
       "28                                       Battleship\n",
       "29                                   Jurassic World\n",
       "                           ...                     \n",
       "5013                                         Manito\n",
       "5014                                        Rampage\n",
       "5015                                        Slacker\n",
       "5016                                    Dutch Kills\n",
       "5017                                      Dry Spell\n",
       "5018                                       Flywheel\n",
       "5019                                         Exeter\n",
       "5020                                     The Ridges\n",
       "5021                                The Puffy Chair\n",
       "5022                           Stories of Our Lives\n",
       "5023                               Breaking Upwards\n",
       "5024                       All Superheroes Must Die\n",
       "5025                                 Pink Flamingos\n",
       "5026                                          Clean\n",
       "5027                                     The Circle\n",
       "5028                                    Tin Can Man\n",
       "5029                                       The Cure\n",
       "5030                                 On the Downlow\n",
       "5031                   Sanctuary; Quite a Conundrum\n",
       "5032                                           Bang\n",
       "5033                                         Primer\n",
       "5034                                         Cavite\n",
       "5035                                    El Mariachi\n",
       "5036                                The Mongol King\n",
       "5037                                      Newlyweds\n",
       "5038                        Signed Sealed Delivered\n",
       "5039                                  The Following\n",
       "5040                           A Plague So Pleasant\n",
       "5041                               Shanghai Calling\n",
       "5042                              My Date with Drew\n",
       "Name: movie_title, dtype: object"
      ]
     },
     "execution_count": 30,
     "metadata": {},
     "output_type": "execute_result"
    }
   ],
   "source": [
    "df['movie_title']"
   ]
  },
  {
   "cell_type": "code",
   "execution_count": null,
   "metadata": {
    "collapsed": true
   },
   "outputs": [],
   "source": []
  },
  {
   "cell_type": "markdown",
   "metadata": {},
   "source": [
    "# IMDB Revenue scraping script. Redundant right now.. but can be useful in other projects"
   ]
  },
  {
   "cell_type": "code",
   "execution_count": 31,
   "metadata": {
    "collapsed": true
   },
   "outputs": [],
   "source": [
    "# def revenue_parse(url, revenue_per_movie):\n",
    "#     url = url + 'business'\n",
    "#     response = get(url)\n",
    "#     html_soup = BeautifulSoup(response.text, 'html.parser')\n",
    "#     movie_containers = html_soup.find('div', {\"id\": \"tn15content\"})\n",
    "#     text_spend = movie_containers.text.split('\\n')\n",
    "#     if 'Gross' in text_spend:\n",
    "#         gross_index = text_spend.index('Gross')\n",
    "#         rev = [int(i[1:].replace(',', '')) if i[1:].replace(',', '').isdigit() else -1 for i in re.findall(r'[$]\\S*', text_spend[gross_index+1])]\n",
    "#         if len(rev) == 0:\n",
    "#             revenue_per_movie.append(-1)\n",
    "#         else:\n",
    "#             revenue_per_movie.append(max(rev))\n",
    "#     else:\n",
    "#         revenue_per_movie.append(-1)\n",
    "\n",
    "\n",
    "# revenue_per_movie = []\n",
    "\n",
    "# for i in df['url']:\n",
    "#     revenue_parse(i, revenue_per_movie)"
   ]
  },
  {
   "cell_type": "code",
   "execution_count": null,
   "metadata": {
    "collapsed": true
   },
   "outputs": [],
   "source": []
  },
  {
   "cell_type": "code",
   "execution_count": null,
   "metadata": {
    "collapsed": true
   },
   "outputs": [],
   "source": []
  },
  {
   "cell_type": "markdown",
   "metadata": {
    "scrolled": true
   },
   "source": [
    "# Describing the data to find the Missing values"
   ]
  },
  {
   "cell_type": "code",
   "execution_count": 32,
   "metadata": {
    "collapsed": false
   },
   "outputs": [
    {
     "data": {
      "text/html": [
       "<div>\n",
       "<table border=\"1\" class=\"dataframe\">\n",
       "  <thead>\n",
       "    <tr style=\"text-align: right;\">\n",
       "      <th></th>\n",
       "      <th>num_critic_for_reviews</th>\n",
       "      <th>duration</th>\n",
       "      <th>director_facebook_likes</th>\n",
       "      <th>actor_3_facebook_likes</th>\n",
       "      <th>actor_1_facebook_likes</th>\n",
       "      <th>gross</th>\n",
       "      <th>num_voted_users</th>\n",
       "      <th>cast_total_facebook_likes</th>\n",
       "      <th>facenumber_in_poster</th>\n",
       "      <th>num_user_for_reviews</th>\n",
       "      <th>budget</th>\n",
       "      <th>title_year</th>\n",
       "      <th>actor_2_facebook_likes</th>\n",
       "      <th>imdb_score</th>\n",
       "      <th>aspect_ratio</th>\n",
       "      <th>movie_facebook_likes</th>\n",
       "      <th>Success</th>\n",
       "    </tr>\n",
       "  </thead>\n",
       "  <tbody>\n",
       "    <tr>\n",
       "      <th>count</th>\n",
       "      <td>5043.000000</td>\n",
       "      <td>5043.000000</td>\n",
       "      <td>5043.000000</td>\n",
       "      <td>5043.000000</td>\n",
       "      <td>5043.00000</td>\n",
       "      <td>5.043000e+03</td>\n",
       "      <td>5.043000e+03</td>\n",
       "      <td>5043.000000</td>\n",
       "      <td>5043.000000</td>\n",
       "      <td>5043.000000</td>\n",
       "      <td>5.043000e+03</td>\n",
       "      <td>5043.000000</td>\n",
       "      <td>5043.000000</td>\n",
       "      <td>5043.000000</td>\n",
       "      <td>5043.000000</td>\n",
       "      <td>5043.000000</td>\n",
       "      <td>5043.000000</td>\n",
       "    </tr>\n",
       "    <tr>\n",
       "      <th>mean</th>\n",
       "      <td>139.869720</td>\n",
       "      <td>107.124132</td>\n",
       "      <td>669.456871</td>\n",
       "      <td>642.868531</td>\n",
       "      <td>6490.47214</td>\n",
       "      <td>4.433833e+07</td>\n",
       "      <td>8.315077e+04</td>\n",
       "      <td>9638.549177</td>\n",
       "      <td>1.366647</td>\n",
       "      <td>271.573468</td>\n",
       "      <td>3.781071e+07</td>\n",
       "      <td>2002.574658</td>\n",
       "      <td>1643.190561</td>\n",
       "      <td>6.441959</td>\n",
       "      <td>2.233119</td>\n",
       "      <td>7470.780984</td>\n",
       "      <td>2.094983</td>\n",
       "    </tr>\n",
       "    <tr>\n",
       "      <th>std</th>\n",
       "      <td>120.535511</td>\n",
       "      <td>24.774814</td>\n",
       "      <td>2776.189759</td>\n",
       "      <td>1658.130651</td>\n",
       "      <td>14979.85268</td>\n",
       "      <td>6.247029e+07</td>\n",
       "      <td>1.378445e+05</td>\n",
       "      <td>18119.377709</td>\n",
       "      <td>2.001342</td>\n",
       "      <td>375.774914</td>\n",
       "      <td>1.958590e+08</td>\n",
       "      <td>12.225589</td>\n",
       "      <td>4025.851655</td>\n",
       "      <td>1.116440</td>\n",
       "      <td>1.338851</td>\n",
       "      <td>19308.507567</td>\n",
       "      <td>0.950949</td>\n",
       "    </tr>\n",
       "    <tr>\n",
       "      <th>min</th>\n",
       "      <td>1.000000</td>\n",
       "      <td>7.000000</td>\n",
       "      <td>0.000000</td>\n",
       "      <td>0.000000</td>\n",
       "      <td>0.00000</td>\n",
       "      <td>1.620000e+02</td>\n",
       "      <td>5.000000e+00</td>\n",
       "      <td>0.000000</td>\n",
       "      <td>0.000000</td>\n",
       "      <td>1.000000</td>\n",
       "      <td>2.180000e+02</td>\n",
       "      <td>1916.000000</td>\n",
       "      <td>0.000000</td>\n",
       "      <td>1.600000</td>\n",
       "      <td>1.180000</td>\n",
       "      <td>0.000000</td>\n",
       "      <td>0.000000</td>\n",
       "    </tr>\n",
       "    <tr>\n",
       "      <th>25%</th>\n",
       "      <td>51.000000</td>\n",
       "      <td>93.000000</td>\n",
       "      <td>8.000000</td>\n",
       "      <td>139.500000</td>\n",
       "      <td>625.00000</td>\n",
       "      <td>9.116578e+06</td>\n",
       "      <td>8.972500e+03</td>\n",
       "      <td>1442.000000</td>\n",
       "      <td>0.000000</td>\n",
       "      <td>67.000000</td>\n",
       "      <td>7.500000e+06</td>\n",
       "      <td>1999.000000</td>\n",
       "      <td>290.000000</td>\n",
       "      <td>5.800000</td>\n",
       "      <td>1.850000</td>\n",
       "      <td>0.000000</td>\n",
       "      <td>1.000000</td>\n",
       "    </tr>\n",
       "    <tr>\n",
       "      <th>50%</th>\n",
       "      <td>110.000000</td>\n",
       "      <td>103.000000</td>\n",
       "      <td>49.000000</td>\n",
       "      <td>372.000000</td>\n",
       "      <td>989.00000</td>\n",
       "      <td>2.559138e+07</td>\n",
       "      <td>3.450400e+04</td>\n",
       "      <td>3097.500000</td>\n",
       "      <td>1.000000</td>\n",
       "      <td>157.000000</td>\n",
       "      <td>2.000000e+07</td>\n",
       "      <td>2005.000000</td>\n",
       "      <td>595.000000</td>\n",
       "      <td>6.600000</td>\n",
       "      <td>2.350000</td>\n",
       "      <td>165.500000</td>\n",
       "      <td>2.000000</td>\n",
       "    </tr>\n",
       "    <tr>\n",
       "      <th>75%</th>\n",
       "      <td>192.000000</td>\n",
       "      <td>117.000000</td>\n",
       "      <td>188.000000</td>\n",
       "      <td>633.000000</td>\n",
       "      <td>11000.00000</td>\n",
       "      <td>5.089081e+07</td>\n",
       "      <td>9.444550e+04</td>\n",
       "      <td>13629.500000</td>\n",
       "      <td>2.000000</td>\n",
       "      <td>322.000000</td>\n",
       "      <td>4.000000e+07</td>\n",
       "      <td>2010.000000</td>\n",
       "      <td>912.000000</td>\n",
       "      <td>7.200000</td>\n",
       "      <td>2.350000</td>\n",
       "      <td>3000.000000</td>\n",
       "      <td>3.000000</td>\n",
       "    </tr>\n",
       "    <tr>\n",
       "      <th>max</th>\n",
       "      <td>813.000000</td>\n",
       "      <td>511.000000</td>\n",
       "      <td>23000.000000</td>\n",
       "      <td>23000.000000</td>\n",
       "      <td>640000.00000</td>\n",
       "      <td>7.605058e+08</td>\n",
       "      <td>1.689764e+06</td>\n",
       "      <td>656730.000000</td>\n",
       "      <td>43.000000</td>\n",
       "      <td>5060.000000</td>\n",
       "      <td>1.221550e+10</td>\n",
       "      <td>2016.000000</td>\n",
       "      <td>137000.000000</td>\n",
       "      <td>9.500000</td>\n",
       "      <td>16.000000</td>\n",
       "      <td>349000.000000</td>\n",
       "      <td>4.000000</td>\n",
       "    </tr>\n",
       "  </tbody>\n",
       "</table>\n",
       "</div>"
      ],
      "text/plain": [
       "       num_critic_for_reviews     duration  director_facebook_likes  \\\n",
       "count             5043.000000  5043.000000              5043.000000   \n",
       "mean               139.869720   107.124132               669.456871   \n",
       "std                120.535511    24.774814              2776.189759   \n",
       "min                  1.000000     7.000000                 0.000000   \n",
       "25%                 51.000000    93.000000                 8.000000   \n",
       "50%                110.000000   103.000000                49.000000   \n",
       "75%                192.000000   117.000000               188.000000   \n",
       "max                813.000000   511.000000             23000.000000   \n",
       "\n",
       "       actor_3_facebook_likes  actor_1_facebook_likes         gross  \\\n",
       "count             5043.000000              5043.00000  5.043000e+03   \n",
       "mean               642.868531              6490.47214  4.433833e+07   \n",
       "std               1658.130651             14979.85268  6.247029e+07   \n",
       "min                  0.000000                 0.00000  1.620000e+02   \n",
       "25%                139.500000               625.00000  9.116578e+06   \n",
       "50%                372.000000               989.00000  2.559138e+07   \n",
       "75%                633.000000             11000.00000  5.089081e+07   \n",
       "max              23000.000000            640000.00000  7.605058e+08   \n",
       "\n",
       "       num_voted_users  cast_total_facebook_likes  facenumber_in_poster  \\\n",
       "count     5.043000e+03                5043.000000           5043.000000   \n",
       "mean      8.315077e+04                9638.549177              1.366647   \n",
       "std       1.378445e+05               18119.377709              2.001342   \n",
       "min       5.000000e+00                   0.000000              0.000000   \n",
       "25%       8.972500e+03                1442.000000              0.000000   \n",
       "50%       3.450400e+04                3097.500000              1.000000   \n",
       "75%       9.444550e+04               13629.500000              2.000000   \n",
       "max       1.689764e+06              656730.000000             43.000000   \n",
       "\n",
       "       num_user_for_reviews        budget   title_year  \\\n",
       "count           5043.000000  5.043000e+03  5043.000000   \n",
       "mean             271.573468  3.781071e+07  2002.574658   \n",
       "std              375.774914  1.958590e+08    12.225589   \n",
       "min                1.000000  2.180000e+02  1916.000000   \n",
       "25%               67.000000  7.500000e+06  1999.000000   \n",
       "50%              157.000000  2.000000e+07  2005.000000   \n",
       "75%              322.000000  4.000000e+07  2010.000000   \n",
       "max             5060.000000  1.221550e+10  2016.000000   \n",
       "\n",
       "       actor_2_facebook_likes   imdb_score  aspect_ratio  \\\n",
       "count             5043.000000  5043.000000   5043.000000   \n",
       "mean              1643.190561     6.441959      2.233119   \n",
       "std               4025.851655     1.116440      1.338851   \n",
       "min                  0.000000     1.600000      1.180000   \n",
       "25%                290.000000     5.800000      1.850000   \n",
       "50%                595.000000     6.600000      2.350000   \n",
       "75%                912.000000     7.200000      2.350000   \n",
       "max             137000.000000     9.500000     16.000000   \n",
       "\n",
       "       movie_facebook_likes      Success  \n",
       "count           5043.000000  5043.000000  \n",
       "mean            7470.780984     2.094983  \n",
       "std            19308.507567     0.950949  \n",
       "min                0.000000     0.000000  \n",
       "25%                0.000000     1.000000  \n",
       "50%              165.500000     2.000000  \n",
       "75%             3000.000000     3.000000  \n",
       "max           349000.000000     4.000000  "
      ]
     },
     "execution_count": 32,
     "metadata": {},
     "output_type": "execute_result"
    }
   ],
   "source": [
    "df.describe()"
   ]
  },
  {
   "cell_type": "code",
   "execution_count": null,
   "metadata": {
    "collapsed": true
   },
   "outputs": [],
   "source": []
  },
  {
   "cell_type": "markdown",
   "metadata": {},
   "source": [
    "# Normalizing or Standardizing the data.. change the commenting as per your needs"
   ]
  },
  {
   "cell_type": "code",
   "execution_count": 33,
   "metadata": {
    "collapsed": true
   },
   "outputs": [],
   "source": [
    "col = list(df.describe().columns)\n",
    "col.remove('Success')"
   ]
  },
  {
   "cell_type": "code",
   "execution_count": 34,
   "metadata": {
    "collapsed": false,
    "scrolled": true
   },
   "outputs": [
    {
     "data": {
      "text/html": [
       "<div>\n",
       "<table border=\"1\" class=\"dataframe\">\n",
       "  <thead>\n",
       "    <tr style=\"text-align: right;\">\n",
       "      <th></th>\n",
       "      <th>color</th>\n",
       "      <th>director_name</th>\n",
       "      <th>num_critic_for_reviews</th>\n",
       "      <th>duration</th>\n",
       "      <th>director_facebook_likes</th>\n",
       "      <th>actor_3_facebook_likes</th>\n",
       "      <th>actor_2_name</th>\n",
       "      <th>actor_1_facebook_likes</th>\n",
       "      <th>gross</th>\n",
       "      <th>genres</th>\n",
       "      <th>...</th>\n",
       "      <th>language</th>\n",
       "      <th>country</th>\n",
       "      <th>content_rating</th>\n",
       "      <th>budget</th>\n",
       "      <th>title_year</th>\n",
       "      <th>actor_2_facebook_likes</th>\n",
       "      <th>imdb_score</th>\n",
       "      <th>aspect_ratio</th>\n",
       "      <th>movie_facebook_likes</th>\n",
       "      <th>Success</th>\n",
       "    </tr>\n",
       "  </thead>\n",
       "  <tbody>\n",
       "    <tr>\n",
       "      <th>0</th>\n",
       "      <td>Color</td>\n",
       "      <td>James Cameron</td>\n",
       "      <td>4.838309</td>\n",
       "      <td>2.861087</td>\n",
       "      <td>-0.241166</td>\n",
       "      <td>0.127947</td>\n",
       "      <td>Joel David Moore</td>\n",
       "      <td>-0.366560</td>\n",
       "      <td>11.465267</td>\n",
       "      <td>Action|Adventure|Fantasy|Sci-Fi</td>\n",
       "      <td>...</td>\n",
       "      <td>English</td>\n",
       "      <td>USA</td>\n",
       "      <td>PG-13</td>\n",
       "      <td>1.017104</td>\n",
       "      <td>0.525617</td>\n",
       "      <td>-0.175680</td>\n",
       "      <td>1.306103</td>\n",
       "      <td>-0.338472</td>\n",
       "      <td>1.322306</td>\n",
       "      <td>3.0</td>\n",
       "    </tr>\n",
       "    <tr>\n",
       "      <th>1</th>\n",
       "      <td>Color</td>\n",
       "      <td>Gore Verbinski</td>\n",
       "      <td>1.345216</td>\n",
       "      <td>2.497779</td>\n",
       "      <td>-0.038350</td>\n",
       "      <td>0.215403</td>\n",
       "      <td>Orlando Bloom</td>\n",
       "      <td>2.237195</td>\n",
       "      <td>4.243491</td>\n",
       "      <td>Action|Adventure|Fantasy</td>\n",
       "      <td>...</td>\n",
       "      <td>English</td>\n",
       "      <td>USA</td>\n",
       "      <td>PG-13</td>\n",
       "      <td>1.338796</td>\n",
       "      <td>0.362010</td>\n",
       "      <td>0.833896</td>\n",
       "      <td>0.589468</td>\n",
       "      <td>0.087308</td>\n",
       "      <td>-0.386955</td>\n",
       "      <td>3.0</td>\n",
       "    </tr>\n",
       "    <tr>\n",
       "      <th>2</th>\n",
       "      <td>Color</td>\n",
       "      <td>Sam Mendes</td>\n",
       "      <td>3.834356</td>\n",
       "      <td>1.650060</td>\n",
       "      <td>-0.241166</td>\n",
       "      <td>-0.290638</td>\n",
       "      <td>Rory Kinnear</td>\n",
       "      <td>0.301069</td>\n",
       "      <td>2.493206</td>\n",
       "      <td>Action|Adventure|Thriller</td>\n",
       "      <td>...</td>\n",
       "      <td>English</td>\n",
       "      <td>UK</td>\n",
       "      <td>PG-13</td>\n",
       "      <td>1.057954</td>\n",
       "      <td>1.016440</td>\n",
       "      <td>-0.310571</td>\n",
       "      <td>0.320731</td>\n",
       "      <td>0.087308</td>\n",
       "      <td>4.015686</td>\n",
       "      <td>2.0</td>\n",
       "    </tr>\n",
       "    <tr>\n",
       "      <th>3</th>\n",
       "      <td>Color</td>\n",
       "      <td>Christopher Nolan</td>\n",
       "      <td>5.585051</td>\n",
       "      <td>2.295941</td>\n",
       "      <td>7.684150</td>\n",
       "      <td>13.484672</td>\n",
       "      <td>Christian Bale</td>\n",
       "      <td>1.369277</td>\n",
       "      <td>6.464391</td>\n",
       "      <td>Action|Thriller</td>\n",
       "      <td>...</td>\n",
       "      <td>English</td>\n",
       "      <td>USA</td>\n",
       "      <td>PG-13</td>\n",
       "      <td>1.083485</td>\n",
       "      <td>0.771028</td>\n",
       "      <td>5.305443</td>\n",
       "      <td>1.843579</td>\n",
       "      <td>0.087308</td>\n",
       "      <td>8.107553</td>\n",
       "      <td>4.0</td>\n",
       "    </tr>\n",
       "    <tr>\n",
       "      <th>4</th>\n",
       "      <td>NaN</td>\n",
       "      <td>Doug Walker</td>\n",
       "      <td>-0.247833</td>\n",
       "      <td>-0.166481</td>\n",
       "      <td>-0.193975</td>\n",
       "      <td>-0.163374</td>\n",
       "      <td>Rob Walker</td>\n",
       "      <td>-0.424577</td>\n",
       "      <td>-0.300124</td>\n",
       "      <td>Documentary</td>\n",
       "      <td>...</td>\n",
       "      <td>NaN</td>\n",
       "      <td>NaN</td>\n",
       "      <td>NaN</td>\n",
       "      <td>-0.090945</td>\n",
       "      <td>0.198402</td>\n",
       "      <td>-0.405219</td>\n",
       "      <td>0.589468</td>\n",
       "      <td>0.087308</td>\n",
       "      <td>-0.386955</td>\n",
       "      <td>3.0</td>\n",
       "    </tr>\n",
       "  </tbody>\n",
       "</table>\n",
       "<p>5 rows × 29 columns</p>\n",
       "</div>"
      ],
      "text/plain": [
       "   color      director_name  num_critic_for_reviews  duration  \\\n",
       "0  Color      James Cameron                4.838309  2.861087   \n",
       "1  Color     Gore Verbinski                1.345216  2.497779   \n",
       "2  Color         Sam Mendes                3.834356  1.650060   \n",
       "3  Color  Christopher Nolan                5.585051  2.295941   \n",
       "4    NaN        Doug Walker               -0.247833 -0.166481   \n",
       "\n",
       "   director_facebook_likes  actor_3_facebook_likes      actor_2_name  \\\n",
       "0                -0.241166                0.127947  Joel David Moore   \n",
       "1                -0.038350                0.215403     Orlando Bloom   \n",
       "2                -0.241166               -0.290638      Rory Kinnear   \n",
       "3                 7.684150               13.484672    Christian Bale   \n",
       "4                -0.193975               -0.163374        Rob Walker   \n",
       "\n",
       "   actor_1_facebook_likes      gross                           genres   ...    \\\n",
       "0               -0.366560  11.465267  Action|Adventure|Fantasy|Sci-Fi   ...     \n",
       "1                2.237195   4.243491         Action|Adventure|Fantasy   ...     \n",
       "2                0.301069   2.493206        Action|Adventure|Thriller   ...     \n",
       "3                1.369277   6.464391                  Action|Thriller   ...     \n",
       "4               -0.424577  -0.300124                      Documentary   ...     \n",
       "\n",
       "  language country  content_rating    budget title_year  \\\n",
       "0  English     USA           PG-13  1.017104   0.525617   \n",
       "1  English     USA           PG-13  1.338796   0.362010   \n",
       "2  English      UK           PG-13  1.057954   1.016440   \n",
       "3  English     USA           PG-13  1.083485   0.771028   \n",
       "4      NaN     NaN             NaN -0.090945   0.198402   \n",
       "\n",
       "   actor_2_facebook_likes imdb_score aspect_ratio  movie_facebook_likes  \\\n",
       "0               -0.175680   1.306103    -0.338472              1.322306   \n",
       "1                0.833896   0.589468     0.087308             -0.386955   \n",
       "2               -0.310571   0.320731     0.087308              4.015686   \n",
       "3                5.305443   1.843579     0.087308              8.107553   \n",
       "4               -0.405219   0.589468     0.087308             -0.386955   \n",
       "\n",
       "  Success  \n",
       "0     3.0  \n",
       "1     3.0  \n",
       "2     2.0  \n",
       "3     4.0  \n",
       "4     3.0  \n",
       "\n",
       "[5 rows x 29 columns]"
      ]
     },
     "execution_count": 34,
     "metadata": {},
     "output_type": "execute_result"
    }
   ],
   "source": [
    "sc = StandardScaler()\n",
    "# sc = MinMaxScaler()\n",
    "temp = sc.fit_transform(df[col])\n",
    "df[col] = temp\n",
    "df.head()"
   ]
  },
  {
   "cell_type": "code",
   "execution_count": null,
   "metadata": {
    "collapsed": true,
    "scrolled": true
   },
   "outputs": [],
   "source": []
  },
  {
   "cell_type": "code",
   "execution_count": null,
   "metadata": {
    "collapsed": true
   },
   "outputs": [],
   "source": []
  },
  {
   "cell_type": "markdown",
   "metadata": {},
   "source": [
    "# PCA"
   ]
  },
  {
   "cell_type": "code",
   "execution_count": 35,
   "metadata": {
    "collapsed": true
   },
   "outputs": [],
   "source": [
    "pca = PCA(n_components=3)\n",
    "df_pca = pca.fit_transform(df[col])"
   ]
  },
  {
   "cell_type": "code",
   "execution_count": 36,
   "metadata": {
    "collapsed": false
   },
   "outputs": [
    {
     "data": {
      "text/plain": [
       "array([[ 11.50499081,  -7.00134467,  -1.47905596],\n",
       "       [  5.87327935,  -0.25996027,   0.96327845],\n",
       "       [  5.12053131,  -2.56863692,  -2.50955751],\n",
       "       ..., \n",
       "       [ -1.8300183 ,   0.14930609,  -0.78152649],\n",
       "       [ -1.56035316,   0.69213099,  -0.59412642],\n",
       "       [ -1.64527077,  -0.15948379,   0.02437239]])"
      ]
     },
     "execution_count": 36,
     "metadata": {},
     "output_type": "execute_result"
    }
   ],
   "source": [
    "df_pca"
   ]
  },
  {
   "cell_type": "code",
   "execution_count": 37,
   "metadata": {
    "collapsed": false
   },
   "outputs": [
    {
     "data": {
      "text/plain": [
       "array([ 0.27875487,  0.13013809,  0.08609108])"
      ]
     },
     "execution_count": 37,
     "metadata": {},
     "output_type": "execute_result"
    }
   ],
   "source": [
    "pca.explained_variance_ratio_"
   ]
  },
  {
   "cell_type": "code",
   "execution_count": 38,
   "metadata": {
    "collapsed": true
   },
   "outputs": [],
   "source": [
    "df['pca_one'] = df_pca[:, 0]\n",
    "df['pca_two'] = df_pca[:, 1]\n",
    "df['pca_three'] = df_pca[:, 2]"
   ]
  },
  {
   "cell_type": "code",
   "execution_count": 39,
   "metadata": {
    "collapsed": false,
    "scrolled": false
   },
   "outputs": [
    {
     "data": {
      "image/png": "[encoded data removed]",
      "text/plain": [
       "<matplotlib.figure.Figure at 0x7eff5aafba50>"
      ]
     },
     "metadata": {},
     "output_type": "display_data"
    }
   ],
   "source": [
    "plt.figure(figsize=(12,12))\n",
    "plt.scatter(df['pca_one'][:50], df['pca_two'][:50], color=['orange', 'cyan', 'brown'], cmap='viridis')\n",
    "\n",
    "for m, p1, p2 in zip(df['movie_title'][:50], df['pca_one'][:50], df['pca_two'][:50]):\n",
    "    plt.text(p1, p2, s=m, color=np.random.rand(3)*0.7)"
   ]
  },
  {
   "cell_type": "code",
   "execution_count": null,
   "metadata": {
    "collapsed": true
   },
   "outputs": [],
   "source": []
  },
  {
   "cell_type": "code",
   "execution_count": null,
   "metadata": {
    "collapsed": true
   },
   "outputs": [],
   "source": []
  },
  {
   "cell_type": "code",
   "execution_count": null,
   "metadata": {
    "collapsed": true
   },
   "outputs": [],
   "source": []
  },
  {
   "cell_type": "markdown",
   "metadata": {},
   "source": [
    "# KMeans"
   ]
  },
  {
   "cell_type": "code",
   "execution_count": 40,
   "metadata": {
    "collapsed": true
   },
   "outputs": [],
   "source": [
    "km = KMeans(n_clusters = 5)"
   ]
  },
  {
   "cell_type": "code",
   "execution_count": 41,
   "metadata": {
    "collapsed": false
   },
   "outputs": [
    {
     "data": {
      "text/plain": [
       "array([4, 4, 1, ..., 0, 0, 0], dtype=int32)"
      ]
     },
     "execution_count": 41,
     "metadata": {},
     "output_type": "execute_result"
    }
   ],
   "source": [
    "#P_fit = km.fit(df[['gross','imdb_score','num_critic_for_reviews','director_facebook_likes','actor_1_facebook_likes','movie_facebook_likes','actor_3_facebook_likes','actor_2_facebook_likes']])\n",
    "P_fit = km.fit(df[['gross','imdb_score']])\n",
    "P_fit.labels_\n",
    "# colormap = {0:'red',1:'green',2:'blue'}\n",
    "# lc =  [colormap[c] for c in colormap]\n",
    "# plt.scatter(df['pca_one'],df['pca_two'],c = lc)\n"
   ]
  },
  {
   "cell_type": "code",
   "execution_count": 42,
   "metadata": {
    "collapsed": true
   },
   "outputs": [],
   "source": [
    "df['cluster'] = P_fit.labels_"
   ]
  },
  {
   "cell_type": "code",
   "execution_count": 43,
   "metadata": {
    "collapsed": false
   },
   "outputs": [
    {
     "data": {
      "text/plain": [
       "array([0, 1, 2, 3, 4], dtype=int32)"
      ]
     },
     "execution_count": 43,
     "metadata": {},
     "output_type": "execute_result"
    }
   ],
   "source": [
    "np.unique(P_fit.labels_)"
   ]
  },
  {
   "cell_type": "code",
   "execution_count": 44,
   "metadata": {
    "collapsed": false
   },
   "outputs": [
    {
     "data": {
      "image/png": "[encoded data removed]",
      "text/plain": [
       "<matplotlib.figure.Figure at 0x7eff5aafb810>"
      ]
     },
     "metadata": {},
     "output_type": "display_data"
    }
   ],
   "source": [
    "for i in np.unique(P_fit.labels_):\n",
    "    temp = df[df['cluster'] == i]\n",
    "    plt.scatter(temp['gross'], temp['imdb_score'], color=np.random.rand(3)*0.7)"
   ]
  },
  {
   "cell_type": "markdown",
   "metadata": {
    "collapsed": true
   },
   "source": [
    "# DBSCAN"
   ]
  },
  {
   "cell_type": "code",
   "execution_count": 45,
   "metadata": {
    "collapsed": true
   },
   "outputs": [],
   "source": [
    "cols3 = ['director_facebook_likes','imdb_score']"
   ]
  },
  {
   "cell_type": "code",
   "execution_count": 46,
   "metadata": {
    "collapsed": false
   },
   "outputs": [
    {
     "data": {
      "image/png": "[encoded data removed]",
      "text/plain": [
       "<matplotlib.figure.Figure at 0x7eff5acb50d0>"
      ]
     },
     "metadata": {},
     "output_type": "display_data"
    }
   ],
   "source": [
    "#The min_pts are taken as >= D+1 and the eps value is estimated from the elbow in k-distance graph\n",
    "db = DBSCAN(eps = .5, min_samples=3).fit(df[cols3])\n",
    "len(db.core_sample_indices_)\n",
    "df['cluster'] = db.labels_\n",
    "colors = [plt.cm.Spectral(each) for each in np.linspace(0, 1, len(np.unique(db.labels_)))]\n",
    "plt.figure(figsize= (12,12))\n",
    "for i in np.unique(db.labels_):\n",
    "    temp = df[df['cluster'] == i]\n",
    "    plt.scatter(temp['director_facebook_likes'], temp['imdb_score'], color = np.random.rand(3)*0.7)"
   ]
  },
  {
   "cell_type": "markdown",
   "metadata": {},
   "source": [
    "# Random Forest"
   ]
  },
  {
   "cell_type": "code",
   "execution_count": 47,
   "metadata": {
    "collapsed": true
   },
   "outputs": [],
   "source": [
    "features = col"
   ]
  },
  {
   "cell_type": "code",
   "execution_count": 48,
   "metadata": {
    "collapsed": true
   },
   "outputs": [],
   "source": [
    "features.remove('imdb_score')"
   ]
  },
  {
   "cell_type": "code",
   "execution_count": 49,
   "metadata": {
    "collapsed": false
   },
   "outputs": [
    {
     "data": {
      "text/plain": [
       "['num_critic_for_reviews',\n",
       " 'duration',\n",
       " 'director_facebook_likes',\n",
       " 'actor_3_facebook_likes',\n",
       " 'actor_1_facebook_likes',\n",
       " 'gross',\n",
       " 'num_voted_users',\n",
       " 'cast_total_facebook_likes',\n",
       " 'facenumber_in_poster',\n",
       " 'num_user_for_reviews',\n",
       " 'budget',\n",
       " 'title_year',\n",
       " 'actor_2_facebook_likes',\n",
       " 'aspect_ratio',\n",
       " 'movie_facebook_likes']"
      ]
     },
     "execution_count": 49,
     "metadata": {},
     "output_type": "execute_result"
    }
   ],
   "source": [
    "features"
   ]
  },
  {
   "cell_type": "code",
   "execution_count": 50,
   "metadata": {
    "collapsed": true
   },
   "outputs": [],
   "source": [
    "X_train, X_test, y_train, y_test = train_test_split(df[features], df['Success'], test_size=0.2)"
   ]
  },
  {
   "cell_type": "code",
   "execution_count": 51,
   "metadata": {
    "collapsed": true
   },
   "outputs": [],
   "source": [
    "# rf = RandomForestClassifier(random_state=1, n_estimators=250, min_samples_split=8, min_samples_leaf=4)\n",
    "\n",
    "# rf = GradientBoostingClassifier(random_state=0, n_estimators=250, min_samples_split=8, \n",
    "#                                min_samples_leaf=4, learning_rate=0.1)\n",
    "\n",
    "rf = xgb.XGBClassifier(n_estimators=250)\n",
    "\n",
    "rf.fit(X_train, y_train)\n",
    "\n",
    "predictions = rf.predict(X_test)"
   ]
  },
  {
   "cell_type": "code",
   "execution_count": 52,
   "metadata": {
    "collapsed": true
   },
   "outputs": [],
   "source": [
    "predictions = predictions.astype(int)"
   ]
  },
  {
   "cell_type": "code",
   "execution_count": 53,
   "metadata": {
    "collapsed": false
   },
   "outputs": [
    {
     "data": {
      "text/plain": [
       "array([0, 1, 2, 3, 4])"
      ]
     },
     "execution_count": 53,
     "metadata": {},
     "output_type": "execute_result"
    }
   ],
   "source": [
    "np.unique(predictions)"
   ]
  },
  {
   "cell_type": "code",
   "execution_count": 54,
   "metadata": {
    "collapsed": false
   },
   "outputs": [
    {
     "data": {
      "text/plain": [
       "0.53914767096134786"
      ]
     },
     "execution_count": 54,
     "metadata": {},
     "output_type": "execute_result"
    }
   ],
   "source": [
    "accuracy_score(y_test, predictions)"
   ]
  },
  {
   "cell_type": "code",
   "execution_count": null,
   "metadata": {
    "collapsed": true
   },
   "outputs": [],
   "source": []
  },
  {
   "cell_type": "code",
   "execution_count": null,
   "metadata": {
    "collapsed": true
   },
   "outputs": [],
   "source": []
  },
  {
   "cell_type": "code",
   "execution_count": null,
   "metadata": {
    "collapsed": true
   },
   "outputs": [],
   "source": []
  },
  {
   "cell_type": "code",
   "execution_count": 55,
   "metadata": {
    "collapsed": true
   },
   "outputs": [],
   "source": [
    "features.insert(0, 'imdb_score')"
   ]
  },
  {
   "cell_type": "code",
   "execution_count": 56,
   "metadata": {
    "collapsed": false
   },
   "outputs": [
    {
     "data": {
      "text/plain": [
       "<matplotlib.axes._subplots.AxesSubplot at 0x7eff5b695a90>"
      ]
     },
     "execution_count": 56,
     "metadata": {},
     "output_type": "execute_result"
    },
    {
     "data": {
      "image/png": "[encoded data removed]",
      "text/plain": [
       "<matplotlib.figure.Figure at 0x7eff5ac6b210>"
      ]
     },
     "metadata": {},
     "output_type": "display_data"
    }
   ],
   "source": [
    "sns.heatmap(df[features].corr())"
   ]
  },
  {
   "cell_type": "code",
   "execution_count": null,
   "metadata": {
    "collapsed": true
   },
   "outputs": [],
   "source": []
  },
  {
   "cell_type": "code",
   "execution_count": null,
   "metadata": {
    "collapsed": true
   },
   "outputs": [],
   "source": []
  },
  {
   "cell_type": "code",
   "execution_count": null,
   "metadata": {
    "collapsed": true
   },
   "outputs": [],
   "source": []
  }
 ],
 "metadata": {
  "anaconda-cloud": {},
  "kernelspec": {
   "display_name": "Python [conda root]",
   "language": "python",
   "name": "conda-root-py"
  },
  "language_info": {
   "codemirror_mode": {
    "name": "ipython",
    "version": 2
   },
   "file_extension": ".py",
   "mimetype": "text/x-python",
   "name": "python",
   "nbconvert_exporter": "python",
   "pygments_lexer": "ipython2",
   "version": "2.7.12"
  }
 },
 "nbformat": 4,
 "nbformat_minor": 1
}
